{
 "cells": [
  {
   "cell_type": "code",
   "execution_count": 15,
   "metadata": {},
   "outputs": [
    {
     "name": "stdout",
     "output_type": "stream",
     "text": [
      "Number of data points: 155\n",
      "        time  hour  minute  second  millisecond  speed_knots\n",
      "0     1058.0  19.0    28.0    52.0        800.0         1.58\n",
      "1     1162.0  19.0    28.0    52.0        800.0         1.58\n",
      "2     1373.0  19.0    28.0    53.0          0.0         1.58\n",
      "3     1586.0  19.0    28.0    53.0          0.0         1.58\n",
      "4     1795.0  19.0    28.0    53.0          0.0         1.58\n",
      "..       ...   ...     ...     ...          ...          ...\n",
      "150  32454.0  19.0    29.0    24.0        600.0         0.34\n",
      "151  32664.0  19.0    29.0    24.0        800.0         0.32\n",
      "152  32873.0  19.0    29.0    25.0          0.0         0.30\n",
      "153  33084.0  19.0    29.0    25.0        200.0         0.28\n",
      "154  33293.0  19.0    29.0    25.0        400.0         0.28\n",
      "\n",
      "[155 rows x 6 columns]\n"
     ]
    }
   ],
   "source": [
    "import pandas as pd\n",
    "import numpy as np\n",
    "import struct\n",
    "import os\n",
    "\n",
    "# Define the format of your data\n",
    "data_format = 'LHHHHf'  # format for timer, hour, minute, second, millisecond, speed_kmh\n",
    "\n",
    "# Path to your data file\n",
    "file_path = 'H:/0014GPS.TXT'\n",
    "\n",
    "# Ensure the file exists\n",
    "if not os.path.isfile(file_path):\n",
    "    print(f\"File {file_path} does not exist.\")\n",
    "else:\n",
    "    # Read the file\n",
    "    with open(file_path, 'rb') as f:\n",
    "        binary_data = f.read()\n",
    "\n",
    "    # Get the number of data points\n",
    "    num_data_points = len(binary_data) // struct.calcsize(data_format)\n",
    "\n",
    "    # Debugging: Print the number of data points\n",
    "    print(f\"Number of data points: {num_data_points}\")\n",
    "\n",
    "    # Unpack the binary data\n",
    "    try:\n",
    "        unpacked_data = struct.unpack(data_format * num_data_points, binary_data)\n",
    "    except struct.error as e:\n",
    "        print(f\"Error unpacking data: {e}\")\n",
    "        unpacked_data = []\n",
    "\n",
    "    if unpacked_data:\n",
    "        # Reshape the data to have 6 columns (time, hour, minute, second, millisecond, speed_kmh)\n",
    "        reshaped_data = np.reshape(unpacked_data, (num_data_points, 6))\n",
    "\n",
    "        # Create a pandas DataFrame\n",
    "        df = pd.DataFrame(reshaped_data, columns=['time', 'hour', 'minute', 'second', 'millisecond', 'speed_knots'])\n",
    "\n",
    "        # Print the DataFrame\n",
    "        print(df)\n",
    "\n",
    "        #save df\n",
    "        df.to_csv('H:/0014GPS.csv', index=False)\n"
   ]
  }
 ],
 "metadata": {
  "kernelspec": {
   "display_name": "tf",
   "language": "python",
   "name": "python3"
  },
  "language_info": {
   "codemirror_mode": {
    "name": "ipython",
    "version": 3
   },
   "file_extension": ".py",
   "mimetype": "text/x-python",
   "name": "python",
   "nbconvert_exporter": "python",
   "pygments_lexer": "ipython3",
   "version": "3.10.11"
  },
  "orig_nbformat": 4
 },
 "nbformat": 4,
 "nbformat_minor": 2
}
