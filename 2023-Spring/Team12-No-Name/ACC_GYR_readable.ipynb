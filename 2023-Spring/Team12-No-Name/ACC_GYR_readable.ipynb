{
 "cells": [
  {
   "cell_type": "code",
   "execution_count": 2,
   "metadata": {},
   "outputs": [
    {
     "name": "stdout",
     "output_type": "stream",
     "text": [
      "Number of data points: 3719\n",
      "         time         x         y         z\n",
      "0      1567.0  0.108276 -0.230469  1.227905\n",
      "1      1582.0  0.086670 -0.229248  0.989868\n",
      "2      1585.0  0.020386 -0.260376  1.198853\n",
      "3      1594.0  0.070068 -0.320923  0.545532\n",
      "4      1602.0  0.115601 -0.206665  0.911255\n",
      "...       ...       ...       ...       ...\n",
      "3714  33858.0 -0.034058 -0.061646  0.871094\n",
      "3715  33867.0 -0.035278 -0.048340  1.056519\n",
      "3716  33874.0 -0.040161 -0.130371  0.814697\n",
      "3717  33883.0  0.077881  0.038452  1.370117\n",
      "3718  33893.0  0.049927 -0.044922  0.950562\n",
      "\n",
      "[3719 rows x 4 columns]\n"
     ]
    }
   ],
   "source": [
    "import pandas as pd\n",
    "import numpy as np\n",
    "import struct\n",
    "import os\n",
    "\n",
    "# Define the format of your data\n",
    "data_format = 'Lfff'  # 1x long unsigned int (4 bytes), 3x float (4 bytes each)\n",
    "\n",
    "# Path to your data file\n",
    "file_path = 'H:/0005ACC.TXT'\n",
    "\n",
    "# Ensure the file exists\n",
    "if not os.path.isfile(file_path):\n",
    "    print(f\"File {file_path} does not exist.\")\n",
    "else:\n",
    "    # Read the file\n",
    "    with open(file_path, 'rb') as f:\n",
    "        binary_data = f.read()\n",
    "\n",
    "    # Get the number of data points\n",
    "    num_data_points = len(binary_data) // struct.calcsize(data_format)\n",
    "\n",
    "    # Debugging: Print the number of data points\n",
    "    print(f\"Number of data points: {num_data_points}\")\n",
    "\n",
    "    # Unpack the binary data\n",
    "    try:\n",
    "        unpacked_data = struct.unpack(data_format * num_data_points, binary_data)\n",
    "    except struct.error as e:\n",
    "        print(f\"Error unpacking data: {e}\")\n",
    "        unpacked_data = []\n",
    "\n",
    "    if unpacked_data:\n",
    "        # Reshape the data to have 4 columns (time, x, y, z)\n",
    "        reshaped_data = np.reshape(unpacked_data, (num_data_points, 4))\n",
    "\n",
    "        # Create a pandas DataFrame\n",
    "        df = pd.DataFrame(reshaped_data, columns=['time', 'x', 'y', 'z'])\n",
    "\n",
    "        # Print the DataFrame\n",
    "        print(df)\n",
    "        \n",
    "        #save df\n",
    "        df.to_csv('H:/0005ACC.csv', index=False)\n"
   ]
  }
 ],
 "metadata": {
  "kernelspec": {
   "display_name": "tf",
   "language": "python",
   "name": "python3"
  },
  "language_info": {
   "codemirror_mode": {
    "name": "ipython",
    "version": 3
   },
   "file_extension": ".py",
   "mimetype": "text/x-python",
   "name": "python",
   "nbconvert_exporter": "python",
   "pygments_lexer": "ipython3",
   "version": "3.10.11"
  },
  "orig_nbformat": 4
 },
 "nbformat": 4,
 "nbformat_minor": 2
}
