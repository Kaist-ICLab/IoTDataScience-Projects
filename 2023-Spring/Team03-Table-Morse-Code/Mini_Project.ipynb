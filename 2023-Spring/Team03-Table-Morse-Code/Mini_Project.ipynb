{
  "cells": [
    {
      "cell_type": "code",
      "execution_count": null,
      "metadata": {
        "id": "I65ukChEgyNp"
      },
      "outputs": [],
      "source": [
        "import matplotlib.pyplot as plt\n",
        "import numpy as np\n",
        "import pandas as pd"
      ]
    },
    {
      "attachments": {},
      "cell_type": "markdown",
      "metadata": {
        "id": "kSxUeYPNQbOg"
      },
      "source": [
        "# Train Neural Network\n",
        "\n",
        "\n",
        "\n"
      ]
    },
    {
      "attachments": {},
      "cell_type": "markdown",
      "metadata": {
        "id": "Gxk414PU3oy3"
      },
      "source": [
        "## Parse and prepare the data\n",
        "\n",
        "The next cell parses the csv files and transforms them to a format that will be used to train the fully connected neural network.\n",
        "\n",
        "Update the `GESTURES` list with the gesture data you've collected in `.csv` format.\n"
      ]
    },
    {
      "cell_type": "code",
      "execution_count": 30,
      "metadata": {
        "id": "JJs-u_ARY8fY"
      },
      "outputs": [],
      "source": [
        "pinch = pd.read_csv(\"pinch_1.csv\")\n",
        "tap = pd.read_csv(\"tap_1.csv\")\n",
        "twist = pd.read_csv(\"twist_1.csv\")"
      ]
    },
    {
      "cell_type": "code",
      "execution_count": 31,
      "metadata": {
        "colab": {
          "base_uri": "https://localhost:8080/",
          "height": 423
        },
        "id": "QOUyCyPvY8aa",
        "outputId": "a7ddebd2-c8d0-47c2-f569-1303518a7a79"
      },
      "outputs": [
        {
          "data": {
            "text/html": [
              "\n",
              "  <div id=\"df-23edfd04-bab0-46e2-b02e-611f664a8bb7\">\n",
              "    <div class=\"colab-df-container\">\n",
              "      <div>\n",
              "<style scoped>\n",
              "    .dataframe tbody tr th:only-of-type {\n",
              "        vertical-align: middle;\n",
              "    }\n",
              "\n",
              "    .dataframe tbody tr th {\n",
              "        vertical-align: top;\n",
              "    }\n",
              "\n",
              "    .dataframe thead th {\n",
              "        text-align: right;\n",
              "    }\n",
              "</style>\n",
              "<table border=\"1\" class=\"dataframe\">\n",
              "  <thead>\n",
              "    <tr style=\"text-align: right;\">\n",
              "      <th></th>\n",
              "      <th>a1X</th>\n",
              "      <th>a1Y</th>\n",
              "      <th>a1Z</th>\n",
              "      <th>g1X</th>\n",
              "      <th>g1Y</th>\n",
              "      <th>g1Z</th>\n",
              "      <th>a2X</th>\n",
              "      <th>a2Y</th>\n",
              "      <th>a2Z</th>\n",
              "      <th>g2X</th>\n",
              "      <th>g2Y</th>\n",
              "      <th>g2Z</th>\n",
              "    </tr>\n",
              "  </thead>\n",
              "  <tbody>\n",
              "    <tr>\n",
              "      <th>0</th>\n",
              "      <td>-0.266</td>\n",
              "      <td>-0.988</td>\n",
              "      <td>-0.025</td>\n",
              "      <td>-2.747</td>\n",
              "      <td>-1.831</td>\n",
              "      <td>-4.822</td>\n",
              "      <td>-62.90</td>\n",
              "      <td>0.15</td>\n",
              "      <td>0.00</td>\n",
              "      <td>0.00</td>\n",
              "      <td>0.00</td>\n",
              "      <td>22.63</td>\n",
              "    </tr>\n",
              "    <tr>\n",
              "      <th>1</th>\n",
              "      <td>-0.274</td>\n",
              "      <td>-1.000</td>\n",
              "      <td>-0.019</td>\n",
              "      <td>-2.319</td>\n",
              "      <td>-2.136</td>\n",
              "      <td>-5.615</td>\n",
              "      <td>-62.90</td>\n",
              "      <td>0.15</td>\n",
              "      <td>0.00</td>\n",
              "      <td>0.00</td>\n",
              "      <td>0.00</td>\n",
              "      <td>22.63</td>\n",
              "    </tr>\n",
              "    <tr>\n",
              "      <th>2</th>\n",
              "      <td>-0.277</td>\n",
              "      <td>-0.996</td>\n",
              "      <td>-0.006</td>\n",
              "      <td>-1.160</td>\n",
              "      <td>-2.319</td>\n",
              "      <td>-5.432</td>\n",
              "      <td>-62.90</td>\n",
              "      <td>0.15</td>\n",
              "      <td>0.00</td>\n",
              "      <td>0.00</td>\n",
              "      <td>0.00</td>\n",
              "      <td>22.63</td>\n",
              "    </tr>\n",
              "    <tr>\n",
              "      <th>3</th>\n",
              "      <td>-0.262</td>\n",
              "      <td>-1.012</td>\n",
              "      <td>-0.027</td>\n",
              "      <td>0.732</td>\n",
              "      <td>-3.845</td>\n",
              "      <td>-3.113</td>\n",
              "      <td>-62.90</td>\n",
              "      <td>0.15</td>\n",
              "      <td>0.00</td>\n",
              "      <td>0.00</td>\n",
              "      <td>0.00</td>\n",
              "      <td>22.63</td>\n",
              "    </tr>\n",
              "    <tr>\n",
              "      <th>4</th>\n",
              "      <td>-0.261</td>\n",
              "      <td>-1.000</td>\n",
              "      <td>-0.018</td>\n",
              "      <td>1.892</td>\n",
              "      <td>-5.981</td>\n",
              "      <td>-1.648</td>\n",
              "      <td>-62.90</td>\n",
              "      <td>0.15</td>\n",
              "      <td>0.00</td>\n",
              "      <td>0.00</td>\n",
              "      <td>0.00</td>\n",
              "      <td>22.63</td>\n",
              "    </tr>\n",
              "    <tr>\n",
              "      <th>...</th>\n",
              "      <td>...</td>\n",
              "      <td>...</td>\n",
              "      <td>...</td>\n",
              "      <td>...</td>\n",
              "      <td>...</td>\n",
              "      <td>...</td>\n",
              "      <td>...</td>\n",
              "      <td>...</td>\n",
              "      <td>...</td>\n",
              "      <td>...</td>\n",
              "      <td>...</td>\n",
              "      <td>...</td>\n",
              "    </tr>\n",
              "    <tr>\n",
              "      <th>22675</th>\n",
              "      <td>-0.504</td>\n",
              "      <td>-0.877</td>\n",
              "      <td>0.204</td>\n",
              "      <td>0.061</td>\n",
              "      <td>-2.625</td>\n",
              "      <td>-2.075</td>\n",
              "      <td>3.11</td>\n",
              "      <td>6.59</td>\n",
              "      <td>7.25</td>\n",
              "      <td>-0.07</td>\n",
              "      <td>-0.04</td>\n",
              "      <td>0.02</td>\n",
              "    </tr>\n",
              "    <tr>\n",
              "      <th>22676</th>\n",
              "      <td>-0.504</td>\n",
              "      <td>-0.869</td>\n",
              "      <td>0.208</td>\n",
              "      <td>-0.916</td>\n",
              "      <td>-2.869</td>\n",
              "      <td>-2.014</td>\n",
              "      <td>3.35</td>\n",
              "      <td>6.83</td>\n",
              "      <td>7.95</td>\n",
              "      <td>-0.07</td>\n",
              "      <td>-0.04</td>\n",
              "      <td>-0.01</td>\n",
              "    </tr>\n",
              "    <tr>\n",
              "      <th>22677</th>\n",
              "      <td>-0.498</td>\n",
              "      <td>-0.845</td>\n",
              "      <td>0.217</td>\n",
              "      <td>-2.075</td>\n",
              "      <td>-3.052</td>\n",
              "      <td>-2.014</td>\n",
              "      <td>3.30</td>\n",
              "      <td>6.91</td>\n",
              "      <td>7.87</td>\n",
              "      <td>-0.11</td>\n",
              "      <td>0.03</td>\n",
              "      <td>0.01</td>\n",
              "    </tr>\n",
              "    <tr>\n",
              "      <th>22678</th>\n",
              "      <td>-0.505</td>\n",
              "      <td>-0.843</td>\n",
              "      <td>0.228</td>\n",
              "      <td>-1.587</td>\n",
              "      <td>-3.723</td>\n",
              "      <td>-2.258</td>\n",
              "      <td>3.15</td>\n",
              "      <td>7.00</td>\n",
              "      <td>7.64</td>\n",
              "      <td>-0.13</td>\n",
              "      <td>0.04</td>\n",
              "      <td>0.01</td>\n",
              "    </tr>\n",
              "    <tr>\n",
              "      <th>22679</th>\n",
              "      <td>-</td>\n",
              "      <td>-</td>\n",
              "      <td>-</td>\n",
              "      <td>-</td>\n",
              "      <td>-</td>\n",
              "      <td>-</td>\n",
              "      <td>-</td>\n",
              "      <td>-</td>\n",
              "      <td>-</td>\n",
              "      <td>-</td>\n",
              "      <td>-</td>\n",
              "      <td>-</td>\n",
              "    </tr>\n",
              "  </tbody>\n",
              "</table>\n",
              "<p>22680 rows × 12 columns</p>\n",
              "</div>\n",
              "      <button class=\"colab-df-convert\" onclick=\"convertToInteractive('df-23edfd04-bab0-46e2-b02e-611f664a8bb7')\"\n",
              "              title=\"Convert this dataframe to an interactive table.\"\n",
              "              style=\"display:none;\">\n",
              "        \n",
              "  <svg xmlns=\"http://www.w3.org/2000/svg\" height=\"24px\"viewBox=\"0 0 24 24\"\n",
              "       width=\"24px\">\n",
              "    <path d=\"M0 0h24v24H0V0z\" fill=\"none\"/>\n",
              "    <path d=\"M18.56 5.44l.94 2.06.94-2.06 2.06-.94-2.06-.94-.94-2.06-.94 2.06-2.06.94zm-11 1L8.5 8.5l.94-2.06 2.06-.94-2.06-.94L8.5 2.5l-.94 2.06-2.06.94zm10 10l.94 2.06.94-2.06 2.06-.94-2.06-.94-.94-2.06-.94 2.06-2.06.94z\"/><path d=\"M17.41 7.96l-1.37-1.37c-.4-.4-.92-.59-1.43-.59-.52 0-1.04.2-1.43.59L10.3 9.45l-7.72 7.72c-.78.78-.78 2.05 0 2.83L4 21.41c.39.39.9.59 1.41.59.51 0 1.02-.2 1.41-.59l7.78-7.78 2.81-2.81c.8-.78.8-2.07 0-2.86zM5.41 20L4 18.59l7.72-7.72 1.47 1.35L5.41 20z\"/>\n",
              "  </svg>\n",
              "      </button>\n",
              "      \n",
              "  <style>\n",
              "    .colab-df-container {\n",
              "      display:flex;\n",
              "      flex-wrap:wrap;\n",
              "      gap: 12px;\n",
              "    }\n",
              "\n",
              "    .colab-df-convert {\n",
              "      background-color: #E8F0FE;\n",
              "      border: none;\n",
              "      border-radius: 50%;\n",
              "      cursor: pointer;\n",
              "      display: none;\n",
              "      fill: #1967D2;\n",
              "      height: 32px;\n",
              "      padding: 0 0 0 0;\n",
              "      width: 32px;\n",
              "    }\n",
              "\n",
              "    .colab-df-convert:hover {\n",
              "      background-color: #E2EBFA;\n",
              "      box-shadow: 0px 1px 2px rgba(60, 64, 67, 0.3), 0px 1px 3px 1px rgba(60, 64, 67, 0.15);\n",
              "      fill: #174EA6;\n",
              "    }\n",
              "\n",
              "    [theme=dark] .colab-df-convert {\n",
              "      background-color: #3B4455;\n",
              "      fill: #D2E3FC;\n",
              "    }\n",
              "\n",
              "    [theme=dark] .colab-df-convert:hover {\n",
              "      background-color: #434B5C;\n",
              "      box-shadow: 0px 1px 3px 1px rgba(0, 0, 0, 0.15);\n",
              "      filter: drop-shadow(0px 1px 2px rgba(0, 0, 0, 0.3));\n",
              "      fill: #FFFFFF;\n",
              "    }\n",
              "  </style>\n",
              "\n",
              "      <script>\n",
              "        const buttonEl =\n",
              "          document.querySelector('#df-23edfd04-bab0-46e2-b02e-611f664a8bb7 button.colab-df-convert');\n",
              "        buttonEl.style.display =\n",
              "          google.colab.kernel.accessAllowed ? 'block' : 'none';\n",
              "\n",
              "        async function convertToInteractive(key) {\n",
              "          const element = document.querySelector('#df-23edfd04-bab0-46e2-b02e-611f664a8bb7');\n",
              "          const dataTable =\n",
              "            await google.colab.kernel.invokeFunction('convertToInteractive',\n",
              "                                                     [key], {});\n",
              "          if (!dataTable) return;\n",
              "\n",
              "          const docLinkHtml = 'Like what you see? Visit the ' +\n",
              "            '<a target=\"_blank\" href=https://colab.research.google.com/notebooks/data_table.ipynb>data table notebook</a>'\n",
              "            + ' to learn more about interactive tables.';\n",
              "          element.innerHTML = '';\n",
              "          dataTable['output_type'] = 'display_data';\n",
              "          await google.colab.output.renderOutput(dataTable, element);\n",
              "          const docLink = document.createElement('div');\n",
              "          docLink.innerHTML = docLinkHtml;\n",
              "          element.appendChild(docLink);\n",
              "        }\n",
              "      </script>\n",
              "    </div>\n",
              "  </div>\n",
              "  "
            ],
            "text/plain": [
              "          a1X     a1Y     a1Z     g1X     g1Y     g1Z     a2X   a2Y   a2Z  \\\n",
              "0      -0.266  -0.988  -0.025  -2.747  -1.831  -4.822  -62.90  0.15  0.00   \n",
              "1      -0.274  -1.000  -0.019  -2.319  -2.136  -5.615  -62.90  0.15  0.00   \n",
              "2      -0.277  -0.996  -0.006  -1.160  -2.319  -5.432  -62.90  0.15  0.00   \n",
              "3      -0.262  -1.012  -0.027   0.732  -3.845  -3.113  -62.90  0.15  0.00   \n",
              "4      -0.261  -1.000  -0.018   1.892  -5.981  -1.648  -62.90  0.15  0.00   \n",
              "...       ...     ...     ...     ...     ...     ...     ...   ...   ...   \n",
              "22675  -0.504  -0.877   0.204   0.061  -2.625  -2.075    3.11  6.59  7.25   \n",
              "22676  -0.504  -0.869   0.208  -0.916  -2.869  -2.014    3.35  6.83  7.95   \n",
              "22677  -0.498  -0.845   0.217  -2.075  -3.052  -2.014    3.30  6.91  7.87   \n",
              "22678  -0.505  -0.843   0.228  -1.587  -3.723  -2.258    3.15  7.00  7.64   \n",
              "22679       -       -       -       -       -       -       -     -     -   \n",
              "\n",
              "         g2X    g2Y    g2Z  \n",
              "0       0.00   0.00  22.63  \n",
              "1       0.00   0.00  22.63  \n",
              "2       0.00   0.00  22.63  \n",
              "3       0.00   0.00  22.63  \n",
              "4       0.00   0.00  22.63  \n",
              "...      ...    ...    ...  \n",
              "22675  -0.07  -0.04   0.02  \n",
              "22676  -0.07  -0.04  -0.01  \n",
              "22677  -0.11   0.03   0.01  \n",
              "22678  -0.13   0.04   0.01  \n",
              "22679      -      -      -  \n",
              "\n",
              "[22680 rows x 12 columns]"
            ]
          },
          "execution_count": 31,
          "metadata": {},
          "output_type": "execute_result"
        }
      ],
      "source": [
        "pinch"
      ]
    },
    {
      "cell_type": "code",
      "execution_count": 32,
      "metadata": {
        "colab": {
          "base_uri": "https://localhost:8080/"
        },
        "id": "AGChd1FAk5_j",
        "outputId": "a426a5b8-dcea-445f-84be-60c6ce78bbdd"
      },
      "outputs": [
        {
          "name": "stdout",
          "output_type": "stream",
          "text": [
            "TensorFlow version = 2.12.0\n",
            "\n",
            "Processing index 0 for gesture 'pinch_1'.\n",
            "      a1X     a1Y     a1Z     g1X     g1Y     g1Z     a2X   a2Y   a2Z   g2X  \\\n",
            "0  -0.266  -0.988  -0.025  -2.747  -1.831  -4.822  -62.90  0.15  0.00  0.00   \n",
            "1  -0.274  -1.000  -0.019  -2.319  -2.136  -5.615  -62.90  0.15  0.00  0.00   \n",
            "2  -0.277  -0.996  -0.006  -1.160  -2.319  -5.432  -62.90  0.15  0.00  0.00   \n",
            "3  -0.262  -1.012  -0.027   0.732  -3.845  -3.113  -62.90  0.15  0.00  0.00   \n",
            "4  -0.261  -1.000  -0.018   1.892  -5.981  -1.648  -62.90  0.15  0.00  0.00   \n",
            "\n",
            "    g2Y    g2Z  \n",
            "0  0.00  22.63  \n",
            "1  0.00  22.63  \n",
            "2  0.00  22.63  \n",
            "3  0.00  22.63  \n",
            "4  0.00  22.63  \n",
            "\tThere are 190 recordings of the pinch_1 gesture.\n",
            "Processing index 1 for gesture 'tap_1'.\n",
            "      a1X     a1Y     a1Z       g1X      g1Y       g1Z   a2X    a2Y    a2Z  \\\n",
            "0  -1.007  -0.154  -1.709   194.458  -55.908  -117.432  9.00  15.84  10.40   \n",
            "1  -1.254   0.370   0.199  -106.079    9.705     3.052  8.60  11.41   5.59   \n",
            "2  -1.028  -0.121  -0.284   -59.021    3.235     4.456  6.71  11.17   4.73   \n",
            "3  -1.001  -0.160  -0.156   -24.231   -7.141    26.428  5.70  10.28   4.88   \n",
            "4  -0.797  -0.598  -0.393    21.484   -3.296    29.968  5.60   9.13   5.24   \n",
            "\n",
            "    g2X    g2Y    g2Z  \n",
            "0  1.84  -0.87  -0.99  \n",
            "1  1.30  -0.67  -0.45  \n",
            "2  1.24  -0.23  -0.31  \n",
            "3  1.14  -0.13  -0.15  \n",
            "4  0.82  -0.14  -0.16  \n",
            "\tThere are 177 recordings of the tap_1 gesture.\n",
            "Processing index 2 for gesture 'twist_1'.\n",
            "      a1X     a1Y     a1Z      g1X      g1Y     g1Z   a2X   a2Y   a2Z    g2X  \\\n",
            "0  -1.104  -0.965  -0.435   66.895  -11.353  76.965  6.85  5.09  8.83  -3.06   \n",
            "1  -1.005  -0.869  -0.411   36.682    9.277  88.684  6.39  5.43  8.50  -2.73   \n",
            "2  -0.953  -0.984  -0.452   23.499   27.161  79.346  6.04  5.61  8.16  -2.20   \n",
            "3  -0.774  -0.741  -0.375  -29.053   59.814  40.222  5.84  5.89  8.09  -1.75   \n",
            "4  -0.676  -0.500  -0.298  -41.565   65.979  29.968  5.65  5.76  7.66  -1.44   \n",
            "\n",
            "     g2Y    g2Z  \n",
            "0  -1.16  -1.06  \n",
            "1  -0.98  -0.93  \n",
            "2  -0.80  -0.87  \n",
            "3  -0.70  -0.86  \n",
            "4  -0.60  -0.97  \n",
            "\tThere are 146 recordings of the twist_1 gesture.\n",
            "Data set parsing and preparation complete.\n"
          ]
        }
      ],
      "source": [
        "import matplotlib.pyplot as plt\n",
        "import numpy as np\n",
        "import pandas as pd\n",
        "import tensorflow as tf\n",
        "\n",
        "print(f\"TensorFlow version = {tf.__version__}\\n\")\n",
        "\n",
        "# Set a fixed random seed value, for reproducibility, this will allow us to get\n",
        "# the same random numbers each time the notebook is run\n",
        "SEED = 1337\n",
        "np.random.seed(SEED)\n",
        "tf.random.set_seed(SEED)\n",
        "\n",
        "# the list of gestures that data is available for\n",
        "GESTURES = [\n",
        "    \"pinch_1\",\n",
        "    \"tap_1\",\n",
        "    \"twist_1\"\n",
        "]\n",
        "\n",
        "SAMPLES_PER_GESTURE = 119\n",
        "\n",
        "NUM_GESTURES = len(GESTURES)\n",
        "\n",
        "# create a one-hot encoded matrix that is used in the output\n",
        "ONE_HOT_ENCODED_GESTURES = np.eye(NUM_GESTURES)\n",
        "\n",
        "inputs = []\n",
        "outputs = []\n",
        "\n",
        "# read each csv file and push an input and output\n",
        "for gesture_index in range(NUM_GESTURES):\n",
        "  gesture = GESTURES[gesture_index]\n",
        "  print(f\"Processing index {gesture_index} for gesture '{gesture}'.\")\n",
        "\n",
        "  output = ONE_HOT_ENCODED_GESTURES[gesture_index]\n",
        "\n",
        "  df = pd.read_csv(\"/content/\" + gesture + \".csv\")\n",
        "  print(df.head())\n",
        "  # calculate the number of gesture recordings in the file\n",
        "  num_recordings = int(df.shape[0] / SAMPLES_PER_GESTURE)\n",
        "\n",
        "  print(f\"\\tThere are {num_recordings} recordings of the {gesture} gesture.\")\n",
        "  last_index = 0\n",
        "  tensor = []\n",
        "  for index, row in df.iterrows():\n",
        "    if row['a1X']=='-':\n",
        "        inputs.append(tensor)\n",
        "        outputs.append(output)\n",
        "        tensor = []\n",
        "    else:\n",
        "        tensor += [\n",
        "          (float(df['a1X'][index]) + 4) / 8,\n",
        "          (float(df['a1Y'][index]) + 4) / 8,\n",
        "          (float(df['a1Z'][index]) + 4) / 8,\n",
        "          (float(df['a2X'][index]) + 4) / 8,\n",
        "          (float(df['a2Y'][index]) + 4) / 8,\n",
        "          (float(df['a2Z'][index]) + 4) / 8,\n",
        "          (float(df['g1X'][index]) + 4) / 8,\n",
        "          (float(df['g1Y'][index]) + 4) / 8,\n",
        "          (float(df['g1Z'][index]) + 4) / 8,\n",
        "          (float(df['g2X'][index]) + 4) / 8,\n",
        "          (float(df['g2Y'][index]) + 4) / 8,\n",
        "          (float(df['g2Z'][index]) + 4) / 8\n",
        "\n",
        "      ]\n",
        "\n",
        "#   for i in range(num_recordings):# Here we just separate with the right --------\n",
        "#     tensor = []\n",
        "#     for j in range(SAMPLES_PER_GESTURE):\n",
        "#       index = i * SAMPLES_PER_GESTURE + j\n",
        "#       # normalize the input data, between 0 to 1:\n",
        "#       # - acceleration is between: -4 to +4\n",
        "#       # - gyroscope is between: -2000 to +2000\n",
        "#       tensor += [\n",
        "#           (float(df['a1X'][index]) + 4) / 8,\n",
        "#           (float(df['a1Y'][index]) + 4) / 8,\n",
        "#           (float(df['a1Z'][index]) + 4) / 8,\n",
        "#           (float(df['a2X'][index]) + 4) / 8,\n",
        "#           (float(df['a2Y'][index])+ 4) / 8,\n",
        "#           (float(df['a2Z'][index]) + 4) / 8\n",
        "#           (float(df['g1X'][index]) + 4) / 8,\n",
        "#           (float(df['g1Y'][index])+ 4) / 8,\n",
        "#           (float(df['g1Z'][index]) + 4) / 8\n",
        "#           (float(df['g2X'][index]) + 4) / 8,\n",
        "#           (float(df['g2Y'][index])+ 4) / 8,\n",
        "#           (float(df['g2Z'][index]) + 4) / 8\n",
        "\n",
        "#       ]\n",
        "\n",
        "#     inputs.append(tensor)\n",
        "#     outputs.append(output)\n",
        "\n",
        "# convert the list to numpy array\n",
        "inputs = np.array(inputs)\n",
        "outputs = np.array(outputs)\n",
        "\n",
        "print(\"Data set parsing and preparation complete.\")"
      ]
    },
    {
      "attachments": {},
      "cell_type": "markdown",
      "metadata": {
        "id": "d5_61831d5AM"
      },
      "source": [
        "## Randomize and split the input and output pairs for training\n",
        "\n",
        "Randomly split input and output pairs into sets of data: 60% for training, 20% for validation, and 20% for testing.\n",
        "\n",
        "  - the training set is used to train the model\n",
        "  - the validation set is used to measure how well the model is performing during training\n",
        "  - the testing set is used to test the model after training"
      ]
    },
    {
      "cell_type": "code",
      "execution_count": 33,
      "metadata": {
        "colab": {
          "base_uri": "https://localhost:8080/"
        },
        "id": "QfNEmUZMeIEx",
        "outputId": "53ec9a4c-c97b-4f91-f12c-cfc345849b85"
      },
      "outputs": [
        {
          "name": "stdout",
          "output_type": "stream",
          "text": [
            "Data set randomization and splitting complete.\n"
          ]
        }
      ],
      "source": [
        "# Randomize the order of the inputs, so they can be evenly distributed for training, testing, and validation\n",
        "# https://stackoverflow.com/a/37710486/2020087\n",
        "num_inputs = len(inputs)\n",
        "randomize = np.arange(num_inputs)\n",
        "np.random.shuffle(randomize)\n",
        "\n",
        "# Swap the consecutive indexes (0, 1, 2, etc) with the randomized indexes\n",
        "inputs = inputs[randomize]\n",
        "outputs = outputs[randomize]\n",
        "\n",
        "# Split the recordings (group of samples) into three sets: training, testing and validation\n",
        "TRAIN_SPLIT = int(0.6 * num_inputs)\n",
        "TEST_SPLIT = int(0.2 * num_inputs + TRAIN_SPLIT)\n",
        "\n",
        "inputs_train, inputs_test, inputs_validate = np.split(inputs, [TRAIN_SPLIT, TEST_SPLIT])\n",
        "outputs_train, outputs_test, outputs_validate = np.split(outputs, [TRAIN_SPLIT, TEST_SPLIT])\n",
        "\n",
        "print(\"Data set randomization and splitting complete.\")"
      ]
    },
    {
      "attachments": {},
      "cell_type": "markdown",
      "metadata": {
        "id": "a9g2n41p24nR"
      },
      "source": [
        "## Build & Train the Model\n",
        "\n",
        "Build and train a [TensorFlow](https://www.tensorflow.org) model using the high-level [Keras](https://www.tensorflow.org/guide/keras) API."
      ]
    },
    {
      "cell_type": "code",
      "execution_count": null,
      "metadata": {
        "colab": {
          "base_uri": "https://localhost:8080/"
        },
        "id": "kGNFa-lX24Qo",
        "outputId": "9aab9500-d43e-4cbd-8bf0-7da04ef070c6"
      },
      "outputs": [
        {
          "name": "stdout",
          "output_type": "stream",
          "text": [
            "Epoch 1/100\n",
            "306/306 [==============================] - 3s 7ms/step - loss: 0.0858 - mae: 0.1104 - val_loss: 0.1244 - val_mae: 0.1721\n",
            "Epoch 2/100\n",
            "306/306 [==============================] - 1s 4ms/step - loss: 0.0437 - mae: 0.0570 - val_loss: 0.1008 - val_mae: 0.1228\n",
            "Epoch 3/100\n",
            "306/306 [==============================] - 1s 3ms/step - loss: 0.0309 - mae: 0.0437 - val_loss: 0.0270 - val_mae: 0.0433\n",
            "Epoch 4/100\n",
            "306/306 [==============================] - 1s 3ms/step - loss: 0.0164 - mae: 0.0220 - val_loss: 0.0323 - val_mae: 0.0450\n",
            "Epoch 5/100\n",
            "306/306 [==============================] - 1s 3ms/step - loss: 0.0129 - mae: 0.0150 - val_loss: 0.0323 - val_mae: 0.0413\n",
            "Epoch 6/100\n",
            "306/306 [==============================] - 1s 3ms/step - loss: 0.0124 - mae: 0.0143 - val_loss: 0.0259 - val_mae: 0.0358\n",
            "Epoch 7/100\n",
            "306/306 [==============================] - 1s 3ms/step - loss: 0.0087 - mae: 0.0089 - val_loss: 0.0252 - val_mae: 0.0344\n",
            "Epoch 8/100\n",
            "306/306 [==============================] - 1s 3ms/step - loss: 0.0087 - mae: 0.0089 - val_loss: 0.0243 - val_mae: 0.0336\n",
            "Epoch 9/100\n",
            "306/306 [==============================] - 1s 5ms/step - loss: 0.0079 - mae: 0.0091 - val_loss: 0.0279 - val_mae: 0.0357\n",
            "Epoch 10/100\n",
            "306/306 [==============================] - 2s 6ms/step - loss: 0.0087 - mae: 0.0089 - val_loss: 0.0255 - val_mae: 0.0339\n",
            "Epoch 11/100\n",
            "306/306 [==============================] - 1s 4ms/step - loss: 0.0086 - mae: 0.0089 - val_loss: 0.0225 - val_mae: 0.0308\n",
            "Epoch 12/100\n",
            "306/306 [==============================] - 1s 4ms/step - loss: 0.0087 - mae: 0.0088 - val_loss: 0.0226 - val_mae: 0.0308\n",
            "Epoch 13/100\n",
            "306/306 [==============================] - 1s 3ms/step - loss: 0.0087 - mae: 0.0088 - val_loss: 0.0227 - val_mae: 0.0308\n",
            "Epoch 14/100\n",
            "305/306 [============================>.] - ETA: 0s - loss: 0.0087 - mae: 0.0088"
          ]
        }
      ],
      "source": [
        "# build the model and train it\n",
        "model = tf.keras.Sequential()\n",
        "model.add(tf.keras.layers.Dense(50, activation='relu')) # relu is used for performance\n",
        "model.add(tf.keras.layers.Dense(15, activation='relu'))\n",
        "model.add(tf.keras.layers.Dense(NUM_GESTURES, activation='softmax')) # softmax is used, because we only expect one gesture to occur per input\n",
        "model.compile(optimizer='rmsprop', loss='mse', metrics=['mae'])\n",
        "history = model.fit(inputs_train, outputs_train, epochs=100, batch_size=1, validation_data=(inputs_validate, outputs_validate))\n",
        "\n"
      ]
    },
    {
      "attachments": {},
      "cell_type": "markdown",
      "metadata": {
        "id": "NUDPvaJE1wRE"
      },
      "source": [
        "## Verify\n",
        "\n",
        "Graph the models performance vs validation.\n"
      ]
    },
    {
      "attachments": {},
      "cell_type": "markdown",
      "metadata": {
        "id": "kxA0zCOaS35v"
      },
      "source": [
        "### Graph the loss\n",
        "\n",
        "Graph the loss to see when the model stops improving."
      ]
    },
    {
      "cell_type": "code",
      "execution_count": null,
      "metadata": {
        "id": "bvFNHXoQzmcM"
      },
      "outputs": [],
      "source": [
        "# increase the size of the graphs. The default size is (6,4).\n",
        "plt.rcParams[\"figure.figsize\"] = (20,10)\n",
        "\n",
        "# graph the loss, the model above is configure to use \"mean squared error\" as the loss function\n",
        "loss = history.history['loss']\n",
        "val_loss = history.history['val_loss']\n",
        "epochs = range(1, len(loss) + 1)\n",
        "plt.plot(epochs, loss, 'g.', label='Training loss')\n",
        "plt.plot(epochs, val_loss, 'b', label='Validation loss')\n",
        "plt.title('Training and validation loss')\n",
        "plt.xlabel('Epochs')\n",
        "plt.ylabel('Loss')\n",
        "plt.legend()\n",
        "plt.show()\n",
        "\n",
        "print(plt.rcParams[\"figure.figsize\"])"
      ]
    },
    {
      "attachments": {},
      "cell_type": "markdown",
      "metadata": {
        "id": "DG3m-VpE1zOd"
      },
      "source": [
        "### Graph the loss again, skipping a bit of the start\n",
        "\n",
        "We'll graph the same data as the previous code cell, but start at index 100 so we can further zoom in once the model starts to converge."
      ]
    },
    {
      "cell_type": "code",
      "execution_count": null,
      "metadata": {
        "id": "c3xT7ue2zovd"
      },
      "outputs": [],
      "source": [
        "# graph the loss again skipping a bit of the start\n",
        "SKIP = 10\n",
        "plt.plot(epochs[SKIP:], loss[SKIP:], 'g.', label='Training loss')\n",
        "plt.plot(epochs[SKIP:], val_loss[SKIP:], 'b.', label='Validation loss')\n",
        "plt.title('Training and validation loss')\n",
        "plt.xlabel('Epochs')\n",
        "plt.ylabel('Loss')\n",
        "plt.legend()\n",
        "plt.show()"
      ]
    },
    {
      "attachments": {},
      "cell_type": "markdown",
      "metadata": {
        "id": "CRjvkFQy2RgS"
      },
      "source": [
        "### Graph the mean absolute error\n",
        "\n",
        "[Mean absolute error](https://en.wikipedia.org/wiki/Mean_absolute_error) is another metric to judge the performance of the model.\n",
        "\n"
      ]
    },
    {
      "cell_type": "code",
      "execution_count": null,
      "metadata": {
        "id": "mBjCf1-2zx9C"
      },
      "outputs": [],
      "source": [
        "# graph of mean absolute error\n",
        "mae = history.history['mae']\n",
        "val_mae = history.history['val_mae']\n",
        "plt.plot(epochs[SKIP:], mae[SKIP:], 'g.', label='Training MAE')\n",
        "plt.plot(epochs[SKIP:], val_mae[SKIP:], 'b.', label='Validation MAE')\n",
        "plt.title('Training and validation mean absolute error')\n",
        "plt.xlabel('Epochs')\n",
        "plt.ylabel('MAE')\n",
        "plt.legend()\n",
        "plt.show()\n"
      ]
    },
    {
      "attachments": {},
      "cell_type": "markdown",
      "metadata": {
        "id": "guMjtfa42ahM"
      },
      "source": [
        "### Run with Test Data\n",
        "Put our test data into the model and plot the predictions\n"
      ]
    },
    {
      "cell_type": "code",
      "execution_count": null,
      "metadata": {
        "id": "V3Y0CCWJz2EK"
      },
      "outputs": [],
      "source": [
        "# # use the model to predict the test inputs\n",
        "# predictions = model.predict(inputs_test)\n",
        "\n",
        "# # print the predictions and the expected ouputs\n",
        "# print(\"predictions =\\n\", np.round(predictions, decimals=3))\n",
        "# print(\"actual =\\n\", outputs_test)\n",
        "\n",
        "# # Plot the predictions along with to the test data\n",
        "# plt.clf()\n",
        "# plt.title('Training data predicted vs actual values')\n",
        "# plt.plot(inputs_test, outputs_test, 'b.', label='Actual')\n",
        "# plt.plot(inputs_test, predictions, 'r.', label='Predicted')\n",
        "# plt.show()"
      ]
    },
    {
      "attachments": {},
      "cell_type": "markdown",
      "metadata": {
        "id": "j7DO6xxXVCym"
      },
      "source": [
        "# Convert the Trained Model to Tensor Flow Lite\n",
        "\n",
        "The next cell converts the model to TFlite format. The size in bytes of the model is also printed out."
      ]
    },
    {
      "cell_type": "code",
      "execution_count": null,
      "metadata": {
        "id": "0Xn1-Rn9Cp_8"
      },
      "outputs": [],
      "source": [
        "# Convert the model to the TensorFlow Lite format without quantization\n",
        "converter = tf.lite.TFLiteConverter.from_keras_model(model)\n",
        "tflite_model = converter.convert()\n",
        "\n",
        "# Save the model to disk\n",
        "open(\"gesture_model.tflite\", \"wb\").write(tflite_model)\n",
        "\n",
        "import os\n",
        "basic_model_size = os.path.getsize(\"gesture_model.tflite\")\n",
        "print(\"Model is %d bytes\" % basic_model_size)\n",
        "\n"
      ]
    },
    {
      "attachments": {},
      "cell_type": "markdown",
      "metadata": {
        "id": "ykccQn7SXrUX"
      },
      "source": [
        "## Encode the Model in an Arduino Header File\n",
        "\n",
        "The next cell creates a constant byte array that contains the TFlite model. Import it as a tab with the sketch below."
      ]
    },
    {
      "cell_type": "code",
      "execution_count": null,
      "metadata": {
        "id": "9J33uwpNtAku"
      },
      "outputs": [],
      "source": [
        "!echo \"const unsigned char model[] = {\" > /content/model.h\n",
        "!cat gesture_model.tflite | xxd -i      >> /content/model.h\n",
        "!echo \"};\"                              >> /content/model.h\n",
        "\n",
        "import os\n",
        "model_h_size = os.path.getsize(\"model.h\")\n",
        "print(f\"Header file, model.h, is {model_h_size:,} bytes.\")\n",
        "print(\"\\nOpen the side panel (refresh if needed). Double click model.h to download the file.\")"
      ]
    },
    {
      "attachments": {},
      "cell_type": "markdown",
      "metadata": {
        "id": "1eSkHZaLzMId"
      },
      "source": [
        "#Additional steps that may be necessarry depending on tensorflow version\n"
      ]
    },
    {
      "cell_type": "code",
      "execution_count": null,
      "metadata": {
        "id": "NyNtIyOpr4sA"
      },
      "outputs": [],
      "source": [
        "# import tensorflow as tf\n",
        "# tf.random.set_seed(1) # tensorflow global random seed\n",
        "\n",
        "# converter = tf.lite.TFLiteConverter.from_keras_model(model)\n",
        "# model_no_quant_tflite = converter.convert()\n",
        "\n",
        "# # # Save the model to disk\n",
        "# open(MODEL_NO_QUANT_TFLITE, \"wb\").write(model_no_quant_tflite)\n",
        "\n",
        "# # Convert the model to the TensorFlow Lite format without quantization\n",
        "# converter = tf.lite.TFLiteConverter.from_keras_model(model)\n",
        "\n",
        "# # Convert the model to the TensorFlow Lite format with quantization\n",
        "# def representative_dataset():\n",
        "#   # put your dataset format\n",
        "#   for i in range(800):\n",
        "#     yield [inputs_train[i].reshape(1, 33, 6).astype(np.float32)]\n",
        "# # Set the optimization flag.\n",
        "# converter.optimizations = [tf.lite.Optimize.DEFAULT]\n",
        "# # The most important point is you need to specify \"supported_ops\"\n",
        "# converter.target_spec.supported_ops = [tf.lite.OpsSet.TFLITE_BUILTINS]\n",
        "# # in this case, the arduino input will be  model_input->data.f[i]\n",
        "# converter.inference_input_type = tf.float32\n",
        "# converter.inference_output_type = tf.float32\n",
        "\n",
        "# # Provide a representative dataset to ensure we quantize correctly.\n",
        "# converter.representative_dataset = representative_dataset\n",
        "# model_tflite = converter.convert()\n",
        "\n",
        "# # Save the model to disk\n",
        "# open(MODEL_TFLITE, \"wb\").write(model_tflite)\n"
      ]
    },
    {
      "cell_type": "code",
      "execution_count": null,
      "metadata": {
        "id": "zk5DO-nOr7hl"
      },
      "outputs": [],
      "source": [
        "# import sys, os\n",
        "# def format_size(variable):\n",
        "#     size_in_bytes = sys.getsizeof(variable)\n",
        "#     units = [\"B\", \"KB\", \"MB\", \"GB\", \"TB\"]\n",
        "#     unit_index = 0\n",
        "#     while size_in_bytes >= 1024 and unit_index < len(units) - 1:\n",
        "#         size_in_bytes /= 1024.0\n",
        "#         unit_index += 1\n",
        "#     return \"{:.2f} {}\".format(size_in_bytes, units[unit_index])\n",
        "\n",
        "# print(\"Model is {}\".format(format_size(model_no_quant_tflite)))\n",
        "# print(\"Quantized Model is {}\".format(format_size(model_tflite)))"
      ]
    },
    {
      "cell_type": "code",
      "execution_count": null,
      "metadata": {
        "id": "zT4GZPgur_fG"
      },
      "outputs": [],
      "source": [
        "# # Install xxd if it is not available\n",
        "# !apt-get update && apt-get -qq install xxd\n",
        "# # Convert to a C source file\n",
        "# !xxd -i {MODEL_TFLITE} > {MODEL_TFLITE_MICRO}\n",
        "# # Update variable names\n",
        "# REPLACE_TEXT = MODEL_TFLITE.replace('/', '_').replace('.', '_')\n",
        "# !sed -i 's/'{REPLACE_TEXT}'/g_model/g' {MODEL_TFLITE_MICRO}"
      ]
    },
    {
      "cell_type": "code",
      "execution_count": null,
      "metadata": {
        "id": "xOf3ncTssBr1"
      },
      "outputs": [],
      "source": []
    }
  ],
  "metadata": {
    "colab": {
      "provenance": []
    },
    "kernelspec": {
      "display_name": "Python 3",
      "name": "python3"
    }
  },
  "nbformat": 4,
  "nbformat_minor": 0
}
